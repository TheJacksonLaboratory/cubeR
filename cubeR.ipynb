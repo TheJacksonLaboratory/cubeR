{
 "cells": [
  {
   "cell_type": "markdown",
   "metadata": {},
   "source": [
    "# Cube Custom R Package\n",
    "This is the notebook to develop cube custom package.  All the package is in \"/home/jupypter/cubeR\" directory, and pushed to git\n",
    "https://github.com/TheJacksonLaboratory/cubeR\n",
    "for release.\n",
    "\n",
    "The package follow the directory structure by these tutorals:\n",
    "* http://r-pkgs.had.co.nz/intro.html\n",
    "* https://hilaryparker.com/2014/04/29/writing-an-r-package-from-scratch/\n",
    "* https://tinyheero.github.io/jekyll/update/2015/07/26/making-your-first-R-package.html\n",
    "\n",
    "To release\n",
    "* run \n",
    "```\n",
    "setwd(\"./cubeR\")\n",
    "document()\n",
    "```\n",
    "* git push to repo\n"
   ]
  },
  {
   "cell_type": "code",
   "execution_count": 1,
   "metadata": {},
   "outputs": [
    {
     "name": "stdout",
     "output_type": "stream",
     "text": [
      "\u001b[32m✔\u001b[39m  \u001b[38;5;247mchecking for file ‘/tmp/RtmphBEeqa/remotes7478f6c204/r-lib-roxygen2-c73def4/DESCRIPTION’\u001b[39m\u001b[36m\u001b[39m\n",
      "\u001b[38;5;247m─\u001b[39m\u001b[38;5;247m  \u001b[39m\u001b[38;5;247mpreparing ‘roxygen2’:\u001b[39m\u001b[36m\u001b[39m\n",
      "\u001b[32m✔\u001b[39m  \u001b[38;5;247mchecking DESCRIPTION meta-information\u001b[39m\u001b[36m\u001b[39m\n",
      "\u001b[38;5;247m─\u001b[39m\u001b[38;5;247m  \u001b[39m\u001b[38;5;247mcleaning src\u001b[39m\u001b[36m\u001b[39m\n",
      "\u001b[38;5;247m─\u001b[39m\u001b[38;5;247m  \u001b[39m\u001b[38;5;247mchecking for LF line-endings in source and make files and shell scripts\u001b[39m\u001b[36m\u001b[39m\n",
      "\u001b[38;5;247m─\u001b[39m\u001b[38;5;247m  \u001b[39m\u001b[38;5;247mchecking for empty or unneeded directories\u001b[39m\u001b[36m\u001b[39m\n",
      "\u001b[38;5;247m─\u001b[39m\u001b[38;5;247m  \u001b[39m\u001b[38;5;247mbuilding ‘roxygen2_7.1.1.9000.tar.gz’\u001b[39m\u001b[36m\u001b[39m\n",
      "   \n",
      "\r"
     ]
    },
    {
     "name": "stderr",
     "output_type": "stream",
     "text": [
      "Installing package into ‘/usr/local/lib/R/site-library’\n",
      "(as ‘lib’ is unspecified)\n",
      "\n"
     ]
    }
   ],
   "source": [
    "install.packages(\"devtools\")\n",
    "library(\"devtools\")\n",
    "devtools::install_github(\"klutometis/roxygen\")\n",
    "library(roxygen2)\n",
    "\n",
    "setwd(\"/home/jupyter/cubeR\")\n"
   ]
  },
  {
   "cell_type": "code",
   "execution_count": 2,
   "metadata": {},
   "outputs": [
    {
     "name": "stderr",
     "output_type": "stream",
     "text": [
      "\u001b[32m✔\u001b[39m Setting active project to \u001b[34m'/home/jupyter/cubeR/cubeR'\u001b[39m\n",
      "\n",
      "\u001b[32m✔\u001b[39m Saving \u001b[34m'snp_data'\u001b[39m to \u001b[34m'data/snp_data.rda'\u001b[39m\n",
      "\n",
      "\u001b[31m●\u001b[39m Document your data (see \u001b[34m'https://r-pkgs.org/data.html'\u001b[39m)\n",
      "\n",
      "\u001b[32m✔\u001b[39m Saving \u001b[34m'metadata_assay'\u001b[39m to \u001b[34m'data/metadata_assay.rda'\u001b[39m\n",
      "\n",
      "\u001b[31m●\u001b[39m Document your data (see \u001b[34m'https://r-pkgs.org/data.html'\u001b[39m)\n",
      "\n",
      "Updating cubeR documentation\n",
      "\n",
      "Loading cubeR\n",
      "\n"
     ]
    },
    {
     "name": "stdout",
     "output_type": "stream",
     "text": [
      "Writing NAMESPACE\n",
      "Writing NAMESPACE\n"
     ]
    },
    {
     "name": "stderr",
     "output_type": "stream",
     "text": [
      "\u001b[32m✔\u001b[39m Adding \u001b[34m'inst/doc'\u001b[39m to \u001b[34m'.gitignore'\u001b[39m\n",
      "\n",
      "\u001b[32m✔\u001b[39m Leaving \u001b[34m'vignettes/introduction.Rmd'\u001b[39m unchanged\n",
      "\n"
     ]
    }
   ],
   "source": [
    "setwd(\"/home/jupyter/cubeR/cubeR\")\n",
    "# need to figure out auto build \n",
    "snp_data <- read.csv(\"data-raw/snap_grid_sample.csv\")\n",
    "usethis::use_data(snp_data, overwrite = TRUE)\n",
    "metadata_assay <- read.csv(\"data-raw/metadata_assay.csv\")\n",
    "usethis::use_data(metadata_assay, overwrite = TRUE)\n",
    "document()\n",
    "usethis::use_vignette(\"introduction\")"
   ]
  },
  {
   "cell_type": "code",
   "execution_count": null,
   "metadata": {},
   "outputs": [],
   "source": []
  },
  {
   "cell_type": "code",
   "execution_count": 3,
   "metadata": {},
   "outputs": [
    {
     "name": "stdout",
     "output_type": "stream",
     "text": [
      "\n",
      "\u001b[32m✔\u001b[39m  \u001b[38;5;247mchecking for file ‘/home/jupyter/cubeR/cubeR/DESCRIPTION’\u001b[39m\u001b[36m\u001b[39m\n",
      "\u001b[38;5;247m─\u001b[39m\u001b[38;5;247m  \u001b[39m\u001b[38;5;247mpreparing ‘cubeR’:\u001b[39m\u001b[36m\u001b[39m\n",
      "\u001b[32m✔\u001b[39m  \u001b[38;5;247mchecking DESCRIPTION meta-information\u001b[39m\u001b[36m\u001b[39m\n",
      "\u001b[38;5;247m─\u001b[39m\u001b[38;5;247m  \u001b[39m\u001b[38;5;247mchecking for LF line-endings in source and make files and shell scripts\u001b[39m\u001b[36m\u001b[39m\n",
      "\u001b[38;5;247m─\u001b[39m\u001b[38;5;247m  \u001b[39m\u001b[38;5;247mchecking for empty or unneeded directories\u001b[39m\u001b[36m\u001b[39m\n",
      "\u001b[38;5;247m─\u001b[39m\u001b[38;5;247m  \u001b[39m\u001b[38;5;247mlooking to see if a ‘data/datalist’ file should be added\u001b[39m\u001b[36m\u001b[39m\n",
      "\u001b[38;5;247m─\u001b[39m\u001b[38;5;247m  \u001b[39m\u001b[38;5;247mbuilding ‘cubeR_0.0.0.9000.tar.gz’\u001b[39m\u001b[36m\u001b[39m\n",
      "   \n",
      "Running /usr/lib/R/bin/R CMD INSTALL /tmp/RtmphBEeqa/cubeR_0.0.0.9000.tar.gz \\\n",
      "  --install-tests \n",
      "\u001b[31m* installing to library ‘/usr/local/lib/R/site-library’\n",
      "\u001b[39m\u001b[31m* installing *source* package ‘cubeR’ ...\n",
      "\u001b[39m\u001b[31m** using staged installation\n",
      "\u001b[39m\u001b[31m** R\n",
      "\u001b[39m\u001b[31m** data\n",
      "\u001b[39m\u001b[31m*** moving datasets to lazyload DB\n",
      "\u001b[39m\u001b[31m** inst\n",
      "\u001b[39m\u001b[31m** byte-compile and prepare package for lazy loading\n",
      "\u001b[39m\u001b[31m** help\n",
      "\u001b[39m\u001b[31m*** installing help indices\n",
      "\u001b[39m\u001b[31m** building package indices\n",
      "\u001b[39m\u001b[31m** installing vignettes\n",
      "\u001b[39m\u001b[31m** testing if installed package can be loaded from temporary location\n",
      "\u001b[39m\u001b[31m** testing if installed package can be loaded from final location\n",
      "\u001b[39m\u001b[31m** testing if installed package keeps a record of temporary installation path\n",
      "\u001b[39m\u001b[31m* DONE (cubeR)\n",
      "\u001b[39m[1] \"dataset:  snp_dataset\"\n"
     ]
    },
    {
     "name": "stderr",
     "output_type": "stream",
     "text": [
      "Warning message in file(file, \"rt\"):\n",
      "“file(\"\") only supports open = \"w+\" and open = \"w+b\": using the former”\n"
     ]
    },
    {
     "ename": "ERROR",
     "evalue": "Error in read.table(file, header = TRUE, sep = \",\"): no lines available in input\n",
     "output_type": "error",
     "traceback": [
      "Error in read.table(file, header = TRUE, sep = \",\"): no lines available in input\nTraceback:\n",
      "1. show_snp_data(3)",
      "2. read.table(file, header = TRUE, sep = \",\")",
      "3. stop(\"no lines available in input\")"
     ]
    }
   ],
   "source": [
    "setwd(\"/home/jupyter/cubeR\")\n",
    "install(\"cubeR\")\n",
    "cube_function(\"snp_dataset\")\n",
    "show_snp_data(3)\n",
    "head(metadata_assay, 6)\n",
    "head(snp_data, 6)"
   ]
  },
  {
   "cell_type": "code",
   "execution_count": 4,
   "metadata": {},
   "outputs": [
    {
     "name": "stdout",
     "output_type": "stream",
     "text": [
      "[1] 10\n",
      "[1] 1000\n"
     ]
    },
    {
     "ename": "ERROR",
     "evalue": "Error in head(metadata - assay, 6): object 'metadata' not found\n",
     "output_type": "error",
     "traceback": [
      "Error in head(metadata - assay, 6): object 'metadata' not found\nTraceback:\n",
      "1. head(metadata - assay, 6)"
     ]
    }
   ],
   "source": [
    "print(ncol(snp_data))\n",
    "print(nrow(snp_data))\n",
    "\n",
    "head(metadata-assay, 6)\n",
    "# lapply(snp_data, mean, na.rm = TRUE)"
   ]
  },
  {
   "cell_type": "code",
   "execution_count": null,
   "metadata": {},
   "outputs": [],
   "source": [
    "row <- subset(snp_data, start_position=='110002640' && strain_name == \"129P2/OlaHsd:129P2/OlaHsd\" )\n",
    "print(row)"
   ]
  },
  {
   "cell_type": "code",
   "execution_count": null,
   "metadata": {},
   "outputs": [],
   "source": []
  }
 ],
 "metadata": {
  "kernelspec": {
   "display_name": "R",
   "language": "R",
   "name": "ir"
  },
  "language_info": {
   "codemirror_mode": "r",
   "file_extension": ".r",
   "mimetype": "text/x-r-source",
   "name": "R",
   "pygments_lexer": "r",
   "version": "3.6.3"
  }
 },
 "nbformat": 4,
 "nbformat_minor": 4
}
