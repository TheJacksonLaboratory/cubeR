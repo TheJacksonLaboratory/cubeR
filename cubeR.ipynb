{
 "cells": [
  {
   "cell_type": "markdown",
   "metadata": {},
   "source": [
    "# Cube Custom R Package\n",
    "This is the notebook to develop cube custom package.  All the package is in \"/home/jupypter/cubeR\" directory, and pushed to git\n",
    "https://github.com/TheJacksonLaboratory/cubeR\n",
    "for release.\n",
    "\n",
    "The package follow the directory structure by these tutorals:\n",
    "* http://r-pkgs.had.co.nz/intro.html\n",
    "* https://hilaryparker.com/2014/04/29/writing-an-r-package-from-scratch/\n",
    "* https://tinyheero.github.io/jekyll/update/2015/07/26/making-your-first-R-package.html\n",
    "\n",
    "To release\n",
    "* run \n",
    "```\n",
    "setwd(\"./cubeR\")\n",
    "document()\n",
    "```\n",
    "* git push to repo\n"
   ]
  },
  {
   "cell_type": "code",
   "execution_count": 35,
   "metadata": {},
   "outputs": [
    {
     "name": "stderr",
     "output_type": "stream",
     "text": [
      "Installing package into ‘/usr/local/lib/R/site-library’\n",
      "(as ‘lib’ is unspecified)\n",
      "\n",
      "Skipping install of 'roxygen2' from a github remote, the SHA1 (c73def49) has not changed since last install.\n",
      "  Use `force = TRUE` to force installation\n",
      "\n"
     ]
    }
   ],
   "source": [
    "install.packages(\"devtools\")\n",
    "library(\"devtools\")\n",
    "devtools::install_github(\"klutometis/roxygen\")\n",
    "library(roxygen2)\n",
    "\n",
    "setwd(\"/home/jupyter/cubeR\")"
   ]
  },
  {
   "cell_type": "code",
   "execution_count": 40,
   "metadata": {},
   "outputs": [
    {
     "name": "stderr",
     "output_type": "stream",
     "text": [
      "\u001b[32m✔\u001b[39m Saving \u001b[34m'snp_data'\u001b[39m to \u001b[34m'data/snp_data.rda'\u001b[39m\n",
      "\n",
      "\u001b[31m●\u001b[39m Document your data (see \u001b[34m'https://r-pkgs.org/data.html'\u001b[39m)\n",
      "\n",
      "\u001b[32m✔\u001b[39m Saving \u001b[34m'assay'\u001b[39m to \u001b[34m'data/assay.rda'\u001b[39m\n",
      "\n",
      "\u001b[31m●\u001b[39m Document your data (see \u001b[34m'https://r-pkgs.org/data.html'\u001b[39m)\n",
      "\n",
      "\u001b[32m✔\u001b[39m Saving \u001b[34m'disease'\u001b[39m to \u001b[34m'data/disease.rda'\u001b[39m\n",
      "\n",
      "\u001b[31m●\u001b[39m Document your data (see \u001b[34m'https://r-pkgs.org/data.html'\u001b[39m)\n",
      "\n",
      "\u001b[32m✔\u001b[39m Saving \u001b[34m'drug_treatment'\u001b[39m to \u001b[34m'data/drug_treatment.rda'\u001b[39m\n",
      "\n",
      "\u001b[31m●\u001b[39m Document your data (see \u001b[34m'https://r-pkgs.org/data.html'\u001b[39m)\n",
      "\n",
      "\u001b[32m✔\u001b[39m Saving \u001b[34m'mouse_strain'\u001b[39m to \u001b[34m'data/mouse_strain.rda'\u001b[39m\n",
      "\n",
      "\u001b[31m●\u001b[39m Document your data (see \u001b[34m'https://r-pkgs.org/data.html'\u001b[39m)\n",
      "\n",
      "Updating cubeR documentation\n",
      "\n",
      "Loading cubeR\n",
      "\n",
      "Warning message:\n",
      "“[/home/jupyter/cubeR/cubeR/R/hello.R:4] @param requires name and description”\n"
     ]
    },
    {
     "name": "stdout",
     "output_type": "stream",
     "text": [
      "Writing NAMESPACE\n",
      "Writing NAMESPACE\n",
      "Writing Hello.Rd\n"
     ]
    },
    {
     "name": "stderr",
     "output_type": "stream",
     "text": [
      "Deleting hello.Rd\n",
      "\n",
      "\u001b[32m✔\u001b[39m Leaving \u001b[34m'vignettes/introduction.Rmd'\u001b[39m unchanged\n",
      "\n"
     ]
    }
   ],
   "source": [
    "setwd(\"/home/jupyter/cubeR/cubeR\")\n",
    "# need to figure out auto build \n",
    "snp_data <- read.csv(\"data-raw/snap_grid_sample.csv\")\n",
    "usethis::use_data(snp_data, overwrite = TRUE)\n",
    "\n",
    "assay <- read.csv(\"data-raw/assay.csv\")\n",
    "usethis::use_data(assay, overwrite = TRUE)\n",
    "\n",
    "disease <- read.csv(\"data-raw/disease.csv\")\n",
    "usethis::use_data(disease, overwrite = TRUE)\n",
    "\n",
    "drug_treatment <- read.csv(\"data-raw/drug_treatment.csv\")\n",
    "usethis::use_data(drug_treatment, overwrite = TRUE)\n",
    "\n",
    "mouse_strain <- read.csv(\"data-raw/mouse_strain.csv\")\n",
    "usethis::use_data(mouse_strain, overwrite = TRUE)\n",
    "\n",
    "document()\n",
    "usethis::use_vignette(\"introduction\")"
   ]
  },
  {
   "cell_type": "code",
   "execution_count": 41,
   "metadata": {},
   "outputs": [
    {
     "name": "stdout",
     "output_type": "stream",
     "text": [
      "\n",
      "\u001b[32m✔\u001b[39m  \u001b[38;5;247mchecking for file ‘/home/jupyter/cubeR/cubeR/DESCRIPTION’\u001b[39m\u001b[36m\u001b[39m\n",
      "\u001b[38;5;247m─\u001b[39m\u001b[38;5;247m  \u001b[39m\u001b[38;5;247mpreparing ‘cubeR’:\u001b[39m\u001b[36m\u001b[39m\n",
      "\u001b[32m✔\u001b[39m  \u001b[38;5;247mchecking DESCRIPTION meta-information\u001b[39m\u001b[36m\u001b[39m\n",
      "\u001b[38;5;247m─\u001b[39m\u001b[38;5;247m  \u001b[39m\u001b[38;5;247mchecking for LF line-endings in source and make files and shell scripts\u001b[39m\u001b[36m\u001b[39m\n",
      "\u001b[38;5;247m─\u001b[39m\u001b[38;5;247m  \u001b[39m\u001b[38;5;247mchecking for empty or unneeded directories\u001b[39m\u001b[36m\u001b[39m\n",
      "   Removed empty directory ‘cubeR/data/.ipynb_checkpoints’\n",
      "\u001b[38;5;247m─\u001b[39m\u001b[38;5;247m  \u001b[39m\u001b[38;5;247mlooking to see if a ‘data/datalist’ file should be added\u001b[39m\u001b[36m\u001b[39m\n",
      "\u001b[38;5;247m─\u001b[39m\u001b[38;5;247m  \u001b[39m\u001b[38;5;247mbuilding ‘cubeR_0.0.0.9000.tar.gz’\u001b[39m\u001b[36m\u001b[39m\n",
      "   \n",
      "Running /usr/lib/R/bin/R CMD INSTALL /tmp/RtmpSW75uK/cubeR_0.0.0.9000.tar.gz \\\n",
      "  --install-tests \n",
      "\u001b[31m* installing to library ‘/usr/local/lib/R/site-library’\n",
      "\u001b[39m\u001b[31m* installing *source* package ‘cubeR’ ...\n",
      "\u001b[39m\u001b[31m** using staged installation\n",
      "\u001b[39m\u001b[31m** R\n",
      "\u001b[39m\u001b[31m** data\n",
      "\u001b[39m\u001b[31m*** moving datasets to lazyload DB\n",
      "\u001b[39m\u001b[31m** inst\n",
      "\u001b[39m\u001b[31m** byte-compile and prepare package for lazy loading\n",
      "\u001b[39m\u001b[31m** help\n",
      "\u001b[39m\u001b[31m*** installing help indices\n",
      "\u001b[39m\u001b[31m** building package indices\n",
      "\u001b[39m\u001b[31m** installing vignettes\n",
      "\u001b[39m\u001b[31m** testing if installed package can be loaded from temporary location\n",
      "\u001b[39m\u001b[31m** testing if installed package can be loaded from final location\n",
      "\u001b[39m\u001b[31m** testing if installed package keeps a record of temporary installation path\n",
      "\u001b[39m\u001b[31m* DONE (cubeR)\n",
      "\u001b[39m"
     ]
    },
    {
     "name": "stderr",
     "output_type": "stream",
     "text": [
      "Warning message in FUN(X[[i]], ...):\n",
      "“internal error -3 in R_decompress1”\n"
     ]
    }
   ],
   "source": [
    "setwd(\"/home/jupyter/cubeR\")\n",
    "install(\"cubeR\")"
   ]
  },
  {
   "cell_type": "code",
   "execution_count": 43,
   "metadata": {},
   "outputs": [
    {
     "name": "stderr",
     "output_type": "stream",
     "text": [
      "Warning message in FUN(X[[i]], ...):\n",
      "“restarting interrupted promise evaluation”\n",
      "Warning message in FUN(X[[i]], ...):\n",
      "“internal error -3 in R_decompress1”\n"
     ]
    },
    {
     "ename": "ERROR",
     "evalue": "Error in FUN(X[[i]], ...): lazy-load database '/usr/local/lib/R/site-library/cubeR/data/Rdata.rdb' is corrupt\n",
     "output_type": "error",
     "traceback": [
      "Error in FUN(X[[i]], ...): lazy-load database '/usr/local/lib/R/site-library/cubeR/data/Rdata.rdb' is corrupt\nTraceback:\n",
      "1. library(cubeR)",
      "2. checkConflicts(package, pkgname, pkgpath, nogenerics, ns)",
      "3. same.isFn(lib.pos)",
      "4. vapply(same, exists, NA, where = where, mode = \"function\", inherits = FALSE)",
      "5. FUN(X[[i]], ...)"
     ]
    }
   ],
   "source": [
    "library(cubeR)\n",
    "hello('dd')"
   ]
  },
  {
   "cell_type": "code",
   "execution_count": null,
   "metadata": {},
   "outputs": [],
   "source": [
    "head(assay, 6)"
   ]
  },
  {
   "cell_type": "code",
   "execution_count": null,
   "metadata": {},
   "outputs": [],
   "source": [
    "print(ncol(snp_data))\n",
    "print(nrow(snp_data))\n",
    "\n",
    "head(metadata-assay, 6)\n",
    "# lapply(snp_data, mean, na.rm = TRUE)"
   ]
  },
  {
   "cell_type": "code",
   "execution_count": null,
   "metadata": {},
   "outputs": [],
   "source": [
    "row <- subset(snp_data, start_position=='110002640' && strain_name == \"129P2/OlaHsd:129P2/OlaHsd\" )\n",
    "print(row)"
   ]
  },
  {
   "cell_type": "code",
   "execution_count": null,
   "metadata": {},
   "outputs": [],
   "source": []
  }
 ],
 "metadata": {
  "kernelspec": {
   "display_name": "R",
   "language": "R",
   "name": "ir"
  },
  "language_info": {
   "codemirror_mode": "r",
   "file_extension": ".r",
   "mimetype": "text/x-r-source",
   "name": "R",
   "pygments_lexer": "r",
   "version": "3.6.3"
  }
 },
 "nbformat": 4,
 "nbformat_minor": 4
}
