{
 "cells": [
  {
   "cell_type": "markdown",
   "metadata": {},
   "source": [
    "# Cube Custom R Package\n",
    "This is the notebook to develop cube custom package.  All the package is in \"/home/jupypter/cubeR\" directory, and pushed to git\n",
    "https://github.com/TheJacksonLaboratory/cubeR\n",
    "for release.\n",
    "\n",
    "The package follow the directory structure by these tutorals:\n",
    "* http://r-pkgs.had.co.nz/intro.html\n",
    "* https://hilaryparker.com/2014/04/29/writing-an-r-package-from-scratch/\n",
    "* https://tinyheero.github.io/jekyll/update/2015/07/26/making-your-first-R-package.html\n",
    "\n",
    "To release\n",
    "* run \n",
    "```\n",
    "setwd(\"./cubeR\")\n",
    "document()\n",
    "```\n",
    "* git push to repo\n"
   ]
  },
  {
   "cell_type": "code",
   "execution_count": null,
   "metadata": {},
   "outputs": [],
   "source": [
    "install.packages(\"devtools\")\n",
    "library(\"devtools\")\n",
    "devtools::install_github(\"klutometis/roxygen\")\n",
    "library(roxygen2)\n",
    "\n",
    "setwd(\"/home/jupyter/cubeR\")"
   ]
  },
  {
   "cell_type": "code",
   "execution_count": 56,
   "metadata": {},
   "outputs": [
    {
     "name": "stderr",
     "output_type": "stream",
     "text": [
      "\u001b[32m✔\u001b[39m Saving \u001b[34m'snp_data'\u001b[39m to \u001b[34m'data/snp_data.rda'\u001b[39m\n",
      "\n",
      "\u001b[31m●\u001b[39m Document your data (see \u001b[34m'https://r-pkgs.org/data.html'\u001b[39m)\n",
      "\n",
      "\u001b[32m✔\u001b[39m Saving \u001b[34m'assay'\u001b[39m to \u001b[34m'data/assay.rda'\u001b[39m\n",
      "\n",
      "\u001b[31m●\u001b[39m Document your data (see \u001b[34m'https://r-pkgs.org/data.html'\u001b[39m)\n",
      "\n",
      "\u001b[32m✔\u001b[39m Saving \u001b[34m'disease'\u001b[39m to \u001b[34m'data/disease.rda'\u001b[39m\n",
      "\n",
      "\u001b[31m●\u001b[39m Document your data (see \u001b[34m'https://r-pkgs.org/data.html'\u001b[39m)\n",
      "\n",
      "\u001b[32m✔\u001b[39m Saving \u001b[34m'drug_treatment'\u001b[39m to \u001b[34m'data/drug_treatment.rda'\u001b[39m\n",
      "\n",
      "\u001b[31m●\u001b[39m Document your data (see \u001b[34m'https://r-pkgs.org/data.html'\u001b[39m)\n",
      "\n",
      "\u001b[32m✔\u001b[39m Saving \u001b[34m'mouse_strain'\u001b[39m to \u001b[34m'data/mouse_strain.rda'\u001b[39m\n",
      "\n",
      "\u001b[31m●\u001b[39m Document your data (see \u001b[34m'https://r-pkgs.org/data.html'\u001b[39m)\n",
      "\n",
      "\u001b[32m✔\u001b[39m Saving \u001b[34m'mice'\u001b[39m to \u001b[34m'data/mice.rda'\u001b[39m\n",
      "\n",
      "\u001b[31m●\u001b[39m Document your data (see \u001b[34m'https://r-pkgs.org/data.html'\u001b[39m)\n",
      "\n",
      "Updating cubeR documentation\n",
      "\n",
      "Loading cubeR\n",
      "\n",
      "Warning message in eapply(ns_env(package), force, all.names = TRUE):\n",
      "“restarting interrupted promise evaluation”\n"
     ]
    },
    {
     "ename": "ERROR",
     "evalue": "Error in eapply(ns_env(package), force, all.names = TRUE): cannot open file '/usr/local/lib/R/site-library/cubeR/R/cubeR.rdb': No such file or directory\n",
     "output_type": "error",
     "traceback": [
      "Error in eapply(ns_env(package), force, all.names = TRUE): cannot open file '/usr/local/lib/R/site-library/cubeR/R/cubeR.rdb': No such file or directory\nTraceback:\n",
      "1. document()",
      "2. withr::with_envvar(r_env_vars(), roxygen2::roxygenise(pkg$path, \n .     roclets, load_code = load_code))",
      "3. force(code)",
      "4. roxygen2::roxygenise(pkg$path, roclets, load_code = load_code)",
      "5. load_code(base_path)",
      "6. pkgload::load_all(path, helpers = FALSE, attach_testthat = FALSE)",
      "7. eapply(ns_env(package), force, all.names = TRUE)"
     ]
    }
   ],
   "source": [
    "setwd(\"/home/jupyter/cubeR/cubeR\")\n",
    "# need to figure out auto build \n",
    "snp_data <- read.csv(\"data-raw/snap_grid_sample.csv\")\n",
    "usethis::use_data(snp_data, overwrite = TRUE)\n",
    "\n",
    "assay <- read.csv(\"data-raw/assay.csv\")\n",
    "usethis::use_data(assay, overwrite = TRUE)\n",
    "\n",
    "disease <- read.csv(\"data-raw/disease.csv\")\n",
    "usethis::use_data(disease, overwrite = TRUE)\n",
    "\n",
    "drug_treatment <- read.csv(\"data-raw/drug_treatment.csv\")\n",
    "usethis::use_data(drug_treatment, overwrite = TRUE)\n",
    "\n",
    "mouse_strain <- read.csv(\"data-raw/mouse_strain.csv\")\n",
    "usethis::use_data(mouse_strain, overwrite = TRUE)\n",
    "\n",
    "mice <- read.csv(\"data-raw/mice.csv\")\n",
    "usethis::use_data(mice, overwrite = TRUE)\n",
    "\n",
    "document()\n",
    "usethis::use_vignette(\"introduction\")"
   ]
  },
  {
   "cell_type": "code",
   "execution_count": null,
   "metadata": {},
   "outputs": [],
   "source": [
    "setwd(\"/home/jupyter/cubeR\")\n",
    "install(\"cubeR\")"
   ]
  },
  {
   "cell_type": "code",
   "execution_count": null,
   "metadata": {},
   "outputs": [],
   "source": [
    "library(cubeR)\n",
    "cubeR('Assay')"
   ]
  },
  {
   "cell_type": "code",
   "execution_count": null,
   "metadata": {},
   "outputs": [],
   "source": [
    "head(assay, 6)"
   ]
  },
  {
   "cell_type": "code",
   "execution_count": null,
   "metadata": {},
   "outputs": [],
   "source": [
    "print(ncol(snp_data))\n",
    "print(nrow(snp_data))\n",
    "\n",
    "head(metadata-assay, 6)\n",
    "# lapply(snp_data, mean, na.rm = TRUE)"
   ]
  },
  {
   "cell_type": "code",
   "execution_count": null,
   "metadata": {},
   "outputs": [],
   "source": [
    "row <- subset(snp_data, start_position=='110002640' && strain_name == \"129P2/OlaHsd:129P2/OlaHsd\" )\n",
    "print(row)"
   ]
  },
  {
   "cell_type": "code",
   "execution_count": null,
   "metadata": {},
   "outputs": [],
   "source": []
  }
 ],
 "metadata": {
  "kernelspec": {
   "display_name": "R",
   "language": "R",
   "name": "ir"
  },
  "language_info": {
   "codemirror_mode": "r",
   "file_extension": ".r",
   "mimetype": "text/x-r-source",
   "name": "R",
   "pygments_lexer": "r",
   "version": "3.6.3"
  }
 },
 "nbformat": 4,
 "nbformat_minor": 4
}
