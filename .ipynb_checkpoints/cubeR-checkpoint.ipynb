{
 "cells": [
  {
   "cell_type": "markdown",
   "metadata": {},
   "source": [
    "# Cube Custom R Package\n",
    "This is the notebook to develop cube custom package.  All the package is in \"/home/jupypter/cubeR\" directory, and pushed to git\n",
    "https://github.com/TheJacksonLaboratory/cubeR\n",
    "for release.\n",
    "\n",
    "The package follow the directory structure by these tutorals:\n",
    "* http://r-pkgs.had.co.nz/intro.html\n",
    "* https://hilaryparker.com/2014/04/29/writing-an-r-package-from-scratch/\n",
    "* https://tinyheero.github.io/jekyll/update/2015/07/26/making-your-first-R-package.html\n",
    "\n",
    "To release\n",
    "* run \n",
    "```\n",
    "setwd(\"./cubeR\")\n",
    "document()\n",
    "```\n",
    "* git push to repo\n"
   ]
  },
  {
   "cell_type": "code",
   "execution_count": null,
   "metadata": {},
   "outputs": [],
   "source": [
    "install.packages(\"devtools\")\n",
    "library(\"devtools\")\n",
    "devtools::install_github(\"klutometis/roxygen\")\n",
    "library(roxygen2)\n",
    "\n",
    "setwd(\"/home/jupyter/cubeR\")"
   ]
  },
  {
   "cell_type": "code",
   "execution_count": 24,
   "metadata": {},
   "outputs": [
    {
     "name": "stderr",
     "output_type": "stream",
     "text": [
      "\u001b[32m✔\u001b[39m Saving \u001b[34m'snp_data'\u001b[39m to \u001b[34m'data/snp_data.rda'\u001b[39m\n",
      "\n",
      "\u001b[31m●\u001b[39m Document your data (see \u001b[34m'https://r-pkgs.org/data.html'\u001b[39m)\n",
      "\n",
      "\u001b[32m✔\u001b[39m Saving \u001b[34m'metadata_assay'\u001b[39m to \u001b[34m'data/metadata_assay.rda'\u001b[39m\n",
      "\n",
      "\u001b[31m●\u001b[39m Document your data (see \u001b[34m'https://r-pkgs.org/data.html'\u001b[39m)\n",
      "\n",
      "Updating cubeR documentation\n",
      "\n",
      "Loading cubeR\n",
      "\n",
      "Warning message:\n",
      "“[/home/jupyter/cubeR/cubeR/R/hello.R:4] @param requires name and description”\n"
     ]
    },
    {
     "name": "stdout",
     "output_type": "stream",
     "text": [
      "Writing NAMESPACE\n",
      "Writing NAMESPACE\n"
     ]
    },
    {
     "name": "stderr",
     "output_type": "stream",
     "text": [
      "\u001b[32m✔\u001b[39m Leaving \u001b[34m'vignettes/introduction.Rmd'\u001b[39m unchanged\n",
      "\n"
     ]
    }
   ],
   "source": [
    "setwd(\"/home/jupyter/cubeR/cubeR\")\n",
    "# need to figure out auto build \n",
    "snp_data <- read.csv(\"data-raw/snap_grid_sample.csv\")\n",
    "usethis::use_data(snp_data, overwrite = TRUE)\n",
    "\n",
    "assay <- read.csv(\"data-raw/assay.csv\")\n",
    "usethis::use_data(assay, overwrite = TRUE)\n",
    "\n",
    "disease <- read.csv(\"data-raw/disease.csv\")\n",
    "usethis::use_data(disease, overwrite = TRUE)\n",
    "\n",
    "drug_treatment <- read.csv(\"data-raw/drug_treatment.csv\")\n",
    "usethis::use_data(drug_treatment, overwrite = TRUE)\n",
    "\n",
    "mouse_strain <- read.csv(\"data-raw/mouse_strain.csv\")\n",
    "usethis::use_data(mouse_strain, overwrite = TRUE)\n",
    "\n",
    "document()\n",
    "usethis::use_vignette(\"introduction\")"
   ]
  },
  {
   "cell_type": "code",
   "execution_count": 25,
   "metadata": {},
   "outputs": [
    {
     "name": "stdout",
     "output_type": "stream",
     "text": [
      "\n",
      "\u001b[32m✔\u001b[39m  \u001b[38;5;247mchecking for file ‘/home/jupyter/cubeR/cubeR/DESCRIPTION’\u001b[39m\u001b[36m\u001b[39m\n",
      "\u001b[38;5;247m─\u001b[39m\u001b[38;5;247m  \u001b[39m\u001b[38;5;247mpreparing ‘cubeR’:\u001b[39m\u001b[36m\u001b[39m\n",
      "\u001b[32m✔\u001b[39m  \u001b[38;5;247mchecking DESCRIPTION meta-information\u001b[39m\u001b[36m\u001b[39m\n",
      "\u001b[38;5;247m─\u001b[39m\u001b[38;5;247m  \u001b[39m\u001b[38;5;247mchecking for LF line-endings in source and make files and shell scripts\u001b[39m\u001b[36m\u001b[39m\n",
      "\u001b[38;5;247m─\u001b[39m\u001b[38;5;247m  \u001b[39m\u001b[38;5;247mchecking for empty or unneeded directories\u001b[39m\u001b[36m\u001b[39m\n",
      "\u001b[38;5;247m─\u001b[39m\u001b[38;5;247m  \u001b[39m\u001b[38;5;247mlooking to see if a ‘data/datalist’ file should be added\u001b[39m\u001b[36m\u001b[39m\n",
      "\u001b[38;5;247m─\u001b[39m\u001b[38;5;247m  \u001b[39m\u001b[38;5;247mbuilding ‘cubeR_0.0.0.9000.tar.gz’\u001b[39m\u001b[36m\u001b[39m\n",
      "   \n",
      "Running /usr/lib/R/bin/R CMD INSTALL /tmp/RtmpSW75uK/cubeR_0.0.0.9000.tar.gz \\\n",
      "  --install-tests \n",
      "\u001b[31m* installing to library ‘/usr/local/lib/R/site-library’\n",
      "\u001b[39m\u001b[31m* installing *source* package ‘cubeR’ ...\n",
      "\u001b[39m\u001b[31m** using staged installation\n",
      "\u001b[39m\u001b[31m** R\n",
      "\u001b[39m\u001b[31m** data\n",
      "\u001b[39m\u001b[31m*** moving datasets to lazyload DB\n",
      "\u001b[39m\u001b[31m** inst\n",
      "\u001b[39m\u001b[31m** byte-compile and prepare package for lazy loading\n",
      "\u001b[39m\u001b[31m** help\n",
      "\u001b[39m\u001b[31m*** installing help indices\n",
      "\u001b[39m\u001b[31m** building package indices\n",
      "\u001b[39m\u001b[31m** installing vignettes\n",
      "\u001b[39m\u001b[31m** testing if installed package can be loaded from temporary location\n",
      "\u001b[39m\u001b[31m** testing if installed package can be loaded from final location\n",
      "\u001b[39m\u001b[31m** testing if installed package keeps a record of temporary installation path\n",
      "\u001b[39m\u001b[31m* DONE (cubeR)\n",
      "\u001b[39m"
     ]
    }
   ],
   "source": [
    "setwd(\"/home/jupyter/cubeR\")\n",
    "install(\"cubeR\")"
   ]
  },
  {
   "cell_type": "code",
   "execution_count": 28,
   "metadata": {},
   "outputs": [
    {
     "name": "stdout",
     "output_type": "stream",
     "text": [
      "[1] \"dataset:  ffdddAssayData\"\n"
     ]
    },
    {
     "data": {
      "text/html": [
       "<table>\n",
       "<caption>A data.frame: 18 × 5</caption>\n",
       "<thead>\n",
       "\t<tr><th scope=col>element_id</th><th scope=col>element_label</th><th scope=col>instance_id</th><th scope=col>date_created</th><th scope=col>property_value</th></tr>\n",
       "\t<tr><th scope=col>&lt;int&gt;</th><th scope=col>&lt;fct&gt;</th><th scope=col>&lt;int&gt;</th><th scope=col>&lt;fct&gt;</th><th scope=col>&lt;fct&gt;</th></tr>\n",
       "</thead>\n",
       "<tbody>\n",
       "\t<tr><td>85</td><td>Assay</td><td>37</td><td>2020-07-31 17:11:26.12+00 </td><td>Genotyping Arrays        </td></tr>\n",
       "\t<tr><td>85</td><td>Assay</td><td>37</td><td>2020-07-31 17:11:26.12+00 </td><td>In vitro assays          </td></tr>\n",
       "\t<tr><td>85</td><td>Assay</td><td>38</td><td>2020-07-31 17:11:32.181+00</td><td>Bulk RNA-Seq             </td></tr>\n",
       "\t<tr><td>85</td><td>Assay</td><td>38</td><td>2020-07-31 17:11:32.181+00</td><td>In vitro assays          </td></tr>\n",
       "\t<tr><td>85</td><td>Assay</td><td>39</td><td>2020-07-31 17:14:57.686+00</td><td>In vitro assays          </td></tr>\n",
       "\t<tr><td>85</td><td>Assay</td><td>39</td><td>2020-07-31 17:14:57.686+00</td><td>Bulk ATAC-Seq            </td></tr>\n",
       "\t<tr><td>85</td><td>Assay</td><td>40</td><td>2020-07-31 17:14:59.054+00</td><td>In vivo assays           </td></tr>\n",
       "\t<tr><td>85</td><td>Assay</td><td>40</td><td>2020-07-31 17:14:59.054+00</td><td>Body Weight              </td></tr>\n",
       "\t<tr><td>85</td><td>Assay</td><td>41</td><td>2020-07-31 17:15:00.494+00</td><td>In vivo assays           </td></tr>\n",
       "\t<tr><td>85</td><td>Assay</td><td>41</td><td>2020-07-31 17:15:00.494+00</td><td>Food Intake              </td></tr>\n",
       "\t<tr><td>85</td><td>Assay</td><td>42</td><td>2020-07-31 17:15:01.658+00</td><td>In vivo assays           </td></tr>\n",
       "\t<tr><td>85</td><td>Assay</td><td>42</td><td>2020-07-31 17:15:01.658+00</td><td>7 Day Indirect Caliometry</td></tr>\n",
       "\t<tr><td>85</td><td>Assay</td><td>43</td><td>2020-07-31 17:15:03.097+00</td><td>In vivo assays           </td></tr>\n",
       "\t<tr><td>85</td><td>Assay</td><td>43</td><td>2020-07-31 17:15:03.097+00</td><td>Glucose Tolerance Test   </td></tr>\n",
       "\t<tr><td>85</td><td>Assay</td><td>44</td><td>2020-07-31 17:15:04.944+00</td><td>In vivo assays           </td></tr>\n",
       "\t<tr><td>85</td><td>Assay</td><td>44</td><td>2020-07-31 17:15:04.944+00</td><td>NMR                      </td></tr>\n",
       "\t<tr><td>85</td><td>Assay</td><td>52</td><td>2020-08-06 14:38:09.377+00</td><td>Demo Assay               </td></tr>\n",
       "\t<tr><td>85</td><td>Assay</td><td>52</td><td>2020-08-06 14:38:09.377+00</td><td>In Vitro                 </td></tr>\n",
       "</tbody>\n",
       "</table>\n"
      ],
      "text/latex": [
       "A data.frame: 18 × 5\n",
       "\\begin{tabular}{lllll}\n",
       " element\\_id & element\\_label & instance\\_id & date\\_created & property\\_value\\\\\n",
       " <int> & <fct> & <int> & <fct> & <fct>\\\\\n",
       "\\hline\n",
       "\t 85 & Assay & 37 & 2020-07-31 17:11:26.12+00  & Genotyping Arrays        \\\\\n",
       "\t 85 & Assay & 37 & 2020-07-31 17:11:26.12+00  & In vitro assays          \\\\\n",
       "\t 85 & Assay & 38 & 2020-07-31 17:11:32.181+00 & Bulk RNA-Seq             \\\\\n",
       "\t 85 & Assay & 38 & 2020-07-31 17:11:32.181+00 & In vitro assays          \\\\\n",
       "\t 85 & Assay & 39 & 2020-07-31 17:14:57.686+00 & In vitro assays          \\\\\n",
       "\t 85 & Assay & 39 & 2020-07-31 17:14:57.686+00 & Bulk ATAC-Seq            \\\\\n",
       "\t 85 & Assay & 40 & 2020-07-31 17:14:59.054+00 & In vivo assays           \\\\\n",
       "\t 85 & Assay & 40 & 2020-07-31 17:14:59.054+00 & Body Weight              \\\\\n",
       "\t 85 & Assay & 41 & 2020-07-31 17:15:00.494+00 & In vivo assays           \\\\\n",
       "\t 85 & Assay & 41 & 2020-07-31 17:15:00.494+00 & Food Intake              \\\\\n",
       "\t 85 & Assay & 42 & 2020-07-31 17:15:01.658+00 & In vivo assays           \\\\\n",
       "\t 85 & Assay & 42 & 2020-07-31 17:15:01.658+00 & 7 Day Indirect Caliometry\\\\\n",
       "\t 85 & Assay & 43 & 2020-07-31 17:15:03.097+00 & In vivo assays           \\\\\n",
       "\t 85 & Assay & 43 & 2020-07-31 17:15:03.097+00 & Glucose Tolerance Test   \\\\\n",
       "\t 85 & Assay & 44 & 2020-07-31 17:15:04.944+00 & In vivo assays           \\\\\n",
       "\t 85 & Assay & 44 & 2020-07-31 17:15:04.944+00 & NMR                      \\\\\n",
       "\t 85 & Assay & 52 & 2020-08-06 14:38:09.377+00 & Demo Assay               \\\\\n",
       "\t 85 & Assay & 52 & 2020-08-06 14:38:09.377+00 & In Vitro                 \\\\\n",
       "\\end{tabular}\n"
      ],
      "text/markdown": [
       "\n",
       "A data.frame: 18 × 5\n",
       "\n",
       "| element_id &lt;int&gt; | element_label &lt;fct&gt; | instance_id &lt;int&gt; | date_created &lt;fct&gt; | property_value &lt;fct&gt; |\n",
       "|---|---|---|---|---|\n",
       "| 85 | Assay | 37 | 2020-07-31 17:11:26.12+00  | Genotyping Arrays         |\n",
       "| 85 | Assay | 37 | 2020-07-31 17:11:26.12+00  | In vitro assays           |\n",
       "| 85 | Assay | 38 | 2020-07-31 17:11:32.181+00 | Bulk RNA-Seq              |\n",
       "| 85 | Assay | 38 | 2020-07-31 17:11:32.181+00 | In vitro assays           |\n",
       "| 85 | Assay | 39 | 2020-07-31 17:14:57.686+00 | In vitro assays           |\n",
       "| 85 | Assay | 39 | 2020-07-31 17:14:57.686+00 | Bulk ATAC-Seq             |\n",
       "| 85 | Assay | 40 | 2020-07-31 17:14:59.054+00 | In vivo assays            |\n",
       "| 85 | Assay | 40 | 2020-07-31 17:14:59.054+00 | Body Weight               |\n",
       "| 85 | Assay | 41 | 2020-07-31 17:15:00.494+00 | In vivo assays            |\n",
       "| 85 | Assay | 41 | 2020-07-31 17:15:00.494+00 | Food Intake               |\n",
       "| 85 | Assay | 42 | 2020-07-31 17:15:01.658+00 | In vivo assays            |\n",
       "| 85 | Assay | 42 | 2020-07-31 17:15:01.658+00 | 7 Day Indirect Caliometry |\n",
       "| 85 | Assay | 43 | 2020-07-31 17:15:03.097+00 | In vivo assays            |\n",
       "| 85 | Assay | 43 | 2020-07-31 17:15:03.097+00 | Glucose Tolerance Test    |\n",
       "| 85 | Assay | 44 | 2020-07-31 17:15:04.944+00 | In vivo assays            |\n",
       "| 85 | Assay | 44 | 2020-07-31 17:15:04.944+00 | NMR                       |\n",
       "| 85 | Assay | 52 | 2020-08-06 14:38:09.377+00 | Demo Assay                |\n",
       "| 85 | Assay | 52 | 2020-08-06 14:38:09.377+00 | In Vitro                  |\n",
       "\n"
      ],
      "text/plain": [
       "   element_id element_label instance_id date_created              \n",
       "1  85         Assay         37          2020-07-31 17:11:26.12+00 \n",
       "2  85         Assay         37          2020-07-31 17:11:26.12+00 \n",
       "3  85         Assay         38          2020-07-31 17:11:32.181+00\n",
       "4  85         Assay         38          2020-07-31 17:11:32.181+00\n",
       "5  85         Assay         39          2020-07-31 17:14:57.686+00\n",
       "6  85         Assay         39          2020-07-31 17:14:57.686+00\n",
       "7  85         Assay         40          2020-07-31 17:14:59.054+00\n",
       "8  85         Assay         40          2020-07-31 17:14:59.054+00\n",
       "9  85         Assay         41          2020-07-31 17:15:00.494+00\n",
       "10 85         Assay         41          2020-07-31 17:15:00.494+00\n",
       "11 85         Assay         42          2020-07-31 17:15:01.658+00\n",
       "12 85         Assay         42          2020-07-31 17:15:01.658+00\n",
       "13 85         Assay         43          2020-07-31 17:15:03.097+00\n",
       "14 85         Assay         43          2020-07-31 17:15:03.097+00\n",
       "15 85         Assay         44          2020-07-31 17:15:04.944+00\n",
       "16 85         Assay         44          2020-07-31 17:15:04.944+00\n",
       "17 85         Assay         52          2020-08-06 14:38:09.377+00\n",
       "18 85         Assay         52          2020-08-06 14:38:09.377+00\n",
       "   property_value           \n",
       "1  Genotyping Arrays        \n",
       "2  In vitro assays          \n",
       "3  Bulk RNA-Seq             \n",
       "4  In vitro assays          \n",
       "5  In vitro assays          \n",
       "6  Bulk ATAC-Seq            \n",
       "7  In vivo assays           \n",
       "8  Body Weight              \n",
       "9  In vivo assays           \n",
       "10 Food Intake              \n",
       "11 In vivo assays           \n",
       "12 7 Day Indirect Caliometry\n",
       "13 In vivo assays           \n",
       "14 Glucose Tolerance Test   \n",
       "15 In vivo assays           \n",
       "16 NMR                      \n",
       "17 Demo Assay               \n",
       "18 In Vitro                 "
      ]
     },
     "metadata": {},
     "output_type": "display_data"
    }
   ],
   "source": [
    "library(cubeR)\n",
    "data <- cubeR::cubeR(c(\"ffdddAssayData\"))\n",
    "data"
   ]
  },
  {
   "cell_type": "code",
   "execution_count": null,
   "metadata": {},
   "outputs": [],
   "source": [
    "head(metadata_assay, 6)"
   ]
  },
  {
   "cell_type": "code",
   "execution_count": null,
   "metadata": {},
   "outputs": [],
   "source": [
    "print(ncol(snp_data))\n",
    "print(nrow(snp_data))\n",
    "\n",
    "head(metadata-assay, 6)\n",
    "# lapply(snp_data, mean, na.rm = TRUE)"
   ]
  },
  {
   "cell_type": "code",
   "execution_count": null,
   "metadata": {},
   "outputs": [],
   "source": [
    "row <- subset(snp_data, start_position=='110002640' && strain_name == \"129P2/OlaHsd:129P2/OlaHsd\" )\n",
    "print(row)"
   ]
  },
  {
   "cell_type": "code",
   "execution_count": null,
   "metadata": {},
   "outputs": [],
   "source": []
  }
 ],
 "metadata": {
  "kernelspec": {
   "display_name": "R",
   "language": "R",
   "name": "ir"
  },
  "language_info": {
   "codemirror_mode": "r",
   "file_extension": ".r",
   "mimetype": "text/x-r-source",
   "name": "R",
   "pygments_lexer": "r",
   "version": "3.6.3"
  }
 },
 "nbformat": 4,
 "nbformat_minor": 4
}
